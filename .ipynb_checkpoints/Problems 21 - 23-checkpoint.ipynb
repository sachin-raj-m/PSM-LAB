{
 "cells": [
  {
   "cell_type": "markdown",
   "id": "d0037f0c",
   "metadata": {},
   "source": [
    "## 21. Suppose a sample of 16 light trucks is randomly selected off the assembly line. The trucks are driven 1000 miles and the fuel mileage (MPG) of each truck is recorded. It is found that the mean MPG is 22 with a SD equal to 3. The previous model of the light truck got 20 MPG. Conduct a t- test of the null hypothesis at p = 0.05"
   ]
  },
  {
   "cell_type": "code",
   "execution_count": null,
   "id": "a59ca1e8",
   "metadata": {},
   "outputs": [],
   "source": []
  },
  {
   "cell_type": "markdown",
   "id": "a59bfcd7",
   "metadata": {},
   "source": [
    "## 22. The mean productivity rating for all employees at a company was 3.8 on a fivepoint scale last year. This year you get ratings from a representative sample of fifteen employees from the Human Research Management. Do the data from this sample provide evidence that employee productivity in the department of Human Resource Management is significantly higher than in the company as a whole? Write the null and alternative hypotheses for this problem. Use statistical analysis software to test the null hypothesis stated above."
   ]
  },
  {
   "cell_type": "code",
   "execution_count": null,
   "id": "e9689265",
   "metadata": {},
   "outputs": [],
   "source": []
  },
  {
   "cell_type": "markdown",
   "id": "8af50fdc",
   "metadata": {},
   "source": [
    "## 23. Obtain the regression equation for predicting systolic blood pressure from job satisfaction with reference to the given data using statistical analysis software. If one knows that a subject in the future has a score on job satisfaction of 15, what is their systolic blood pressure predicted to be? What is the standard error of estimate? (Table is in syllabus) "
   ]
  },
  {
   "cell_type": "code",
   "execution_count": null,
   "id": "8cf71328",
   "metadata": {},
   "outputs": [],
   "source": []
  }
 ],
 "metadata": {
  "kernelspec": {
   "display_name": "Python 3 (ipykernel)",
   "language": "python",
   "name": "python3"
  },
  "language_info": {
   "codemirror_mode": {
    "name": "ipython",
    "version": 3
   },
   "file_extension": ".py",
   "mimetype": "text/x-python",
   "name": "python",
   "nbconvert_exporter": "python",
   "pygments_lexer": "ipython3",
   "version": "3.11.1"
  }
 },
 "nbformat": 4,
 "nbformat_minor": 5
}
