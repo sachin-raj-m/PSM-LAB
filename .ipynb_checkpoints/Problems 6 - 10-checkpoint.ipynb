{
 "cells": [
  {
   "cell_type": "markdown",
   "id": "8e49201f",
   "metadata": {},
   "source": [
    "## Remove every occurrence of a number from a list."
   ]
  },
  {
   "cell_type": "code",
   "execution_count": 1,
   "id": "4019a371",
   "metadata": {},
   "outputs": [
    {
     "name": "stdout",
     "output_type": "stream",
     "text": [
      "Enter the limit:5\n",
      "Enter the numbers in the list:\n",
      "100\n",
      "55\n",
      "78\n",
      "4\n",
      "2\n",
      "Enter the value to be removed:78\n",
      "[100, 55, 78, 4, 2]\n",
      "[100, 55, 4, 2]\n"
     ]
    }
   ],
   "source": [
    "l=int(input(\"Enter the limit:\"))\n",
    "list=[]\n",
    "print(\"Enter the numbers in the list:\")\n",
    "for i in range(l):\n",
    "    list.append(int(input()))\n",
    "val=int(input(\"Enter the value to be removed:\"))\n",
    "print(list)\n",
    "list.remove(val)\n",
    "print(list)"
   ]
  },
  {
   "cell_type": "markdown",
   "id": "540906cb",
   "metadata": {},
   "source": [
    "## Matrix Addition"
   ]
  },
  {
   "cell_type": "code",
   "execution_count": 2,
   "id": "1334441b",
   "metadata": {},
   "outputs": [
    {
     "name": "stdout",
     "output_type": "stream",
     "text": [
      "Enter the no of rows:3\n",
      "Enter the no of columns:3\n",
      "Enter the elements of first matrix:\n",
      "1\n",
      "2\n",
      "3\n",
      "4\n",
      "5\n",
      "6\n",
      "7\n",
      "8\n",
      "9\n",
      "First matrix ix :\n",
      "[1, 2, 3]\n",
      "[4, 5, 6]\n",
      "[7, 8, 9]\n",
      "Enter the elements of second matrix:\n",
      "7\n",
      "8\n",
      "9\n",
      "4\n",
      "5\n",
      "6\n",
      "1\n",
      "2\n",
      "3\n",
      "Second matrix ix :\n",
      "[7, 8, 9]\n",
      "[4, 5, 6]\n",
      "[1, 2, 3]\n",
      "The sum of the matrix is:\n",
      "[8, 10, 12]\n",
      "[8, 10, 12]\n",
      "[8, 10, 12]\n"
     ]
    }
   ],
   "source": [
    "rows=int(input(\"Enter the no of rows:\"))\n",
    "column=int(input(\"Enter the no of columns:\"))\n",
    "print(\"Enter the elements of first matrix:\")\n",
    "matrix_a=[[int(input()) for i in range(column)]for i in range(rows)]\n",
    "print(\"First matrix ix :\")\n",
    "for n in matrix_a:\n",
    "    print(n)\n",
    "print(\"Enter the elements of second matrix:\")\n",
    "matrix_b=[[int(input()) for i in range(column)]for i in range(rows)]\n",
    "print(\"Second matrix ix :\")\n",
    "for n in matrix_b:\n",
    "    print(n)\n",
    "result=[[0 for i in range(column)]for i in range(rows)]\n",
    "for i in range(rows):\n",
    "    for j in range(column):\n",
    "         result[i][j]=matrix_a[i][j]+matrix_b[i][j]\n",
    "print(\"The sum of the matrix is:\")\n",
    "for n in result:\n",
    "    print(n)"
   ]
  },
  {
   "cell_type": "markdown",
   "id": "ad89dc72",
   "metadata": {},
   "source": [
    "## Read a tuple of numbers and print even tuple and odd tuple."
   ]
  },
  {
   "cell_type": "code",
   "execution_count": 5,
   "id": "a52bfc81",
   "metadata": {},
   "outputs": [
    {
     "name": "stdout",
     "output_type": "stream",
     "text": [
      "(1, 5, 7, 78, 5, 32)\n",
      "Even Tuples: [3, 5]\n",
      "Odd Tuples: [0, 1, 2, 4]\n"
     ]
    }
   ],
   "source": [
    "tuple1 = (1,5,7,78,5,32)\n",
    "length = len(tuple1)\n",
    "eventuples = []\n",
    "oddtuples = []\n",
    "for i in range (0,length):\n",
    "    if(tuple1[i]%2==0):\n",
    "        eventuples.append(i)\n",
    "    else:\n",
    "        oddtuples.append(i)\n",
    "print(tuple1)\n",
    "print(\"Even Tuples:\",eventuples)\n",
    "print(\"Odd Tuples:\",oddtuples)    "
   ]
  },
  {
   "cell_type": "markdown",
   "id": "cf7d9d1f",
   "metadata": {},
   "source": [
    "## Dictionary Operations"
   ]
  },
  {
   "cell_type": "code",
   "execution_count": 6,
   "id": "9c02dda5",
   "metadata": {},
   "outputs": [
    {
     "name": "stdout",
     "output_type": "stream",
     "text": [
      "{'name': 'Harry Potter', 'author': 'J K Rowling', 'year of Publishing': 1999, 'publisher': 'Reshma K R', 'volume': 3}\n",
      "dict_keys(['name', 'author', 'year of Publishing', 'publisher', 'volume'])\n",
      "dict_values(['Harry Potter', 'J K Rowling', 1999, 'Reshma K R', 3])\n",
      "\n",
      " {'name': 'Harry Potter', 'year of Publishing': 1999, 'publisher': 'Reshma K R', 'volume': 2, 'ISBN': 1586684557}\n"
     ]
    }
   ],
   "source": [
    "book = {\n",
    "    \"name\" : \"Harry Potter\",\n",
    "    \"author\" : \"J K Rowling\",\n",
    "    \"year of Publishing\" : 1999,\n",
    "    \"publisher\" : \"Reshma K R\",\n",
    "    \"volume\" : 3\n",
    "}\n",
    "\n",
    "print (book)\n",
    "\n",
    "print (book.keys())\n",
    "print (book.values())\n",
    "book[\"volume\"] = 2\n",
    "book[\"ISBN\"] = 1586684557\n",
    "book.pop(\"author\")\n",
    "\n",
    "print (\"\\n\",book)"
   ]
  },
  {
   "cell_type": "markdown",
   "id": "299c4c0b",
   "metadata": {},
   "source": [
    "## Print Prime Numbers from a file"
   ]
  },
  {
   "cell_type": "code",
   "execution_count": 9,
   "id": "7ef138b1",
   "metadata": {},
   "outputs": [
    {
     "name": "stdout",
     "output_type": "stream",
     "text": [
      "Enter the Filename:hai.txt\n",
      "Enter Elements:\n",
      "44 55 66 778 88 899\n"
     ]
    }
   ],
   "source": [
    "filename = input(\"Enter the Filename:\")\n",
    "f1 = open(filename,\"w\")\n",
    "print(\"Enter Elements:\")\n",
    "f1.write(input())\n",
    "f1.close()\n",
    "\n",
    "with open(filename,\"r\") as f2:\n",
    "    contents = f2.read()\n",
    "nlist = contents.split()\n",
    "\n",
    "for i in range(0,len(nlist)):\n",
    "    nlist[i] = int(nlist[i])\n",
    "    \n",
    "for i in nlist:\n",
    "    flag = False\n",
    "    if i==1:\n",
    "        print(\"1 is neither Prime Nor Composite.\")\n",
    "    elif i>2:\n",
    "        for j in range(2,i):\n",
    "            if(i%j==0):\n",
    "                flag = True;\n",
    "                break;\n",
    "        \n",
    "        if (flag==False):\n",
    "            print(i)"
   ]
  }
 ],
 "metadata": {
  "kernelspec": {
   "display_name": "Python 3 (ipykernel)",
   "language": "python",
   "name": "python3"
  },
  "language_info": {
   "codemirror_mode": {
    "name": "ipython",
    "version": 3
   },
   "file_extension": ".py",
   "mimetype": "text/x-python",
   "name": "python",
   "nbconvert_exporter": "python",
   "pygments_lexer": "ipython3",
   "version": "3.11.1"
  }
 },
 "nbformat": 4,
 "nbformat_minor": 5
}
