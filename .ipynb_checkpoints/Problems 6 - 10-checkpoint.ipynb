{
 "cells": [
  {
   "cell_type": "markdown",
   "id": "8e49201f",
   "metadata": {},
   "source": [
    "## 6. Remove every occurrence of a number from a list."
   ]
  },
  {
   "cell_type": "code",
   "execution_count": 22,
   "id": "4019a371",
   "metadata": {},
   "outputs": [
    {
     "name": "stdout",
     "output_type": "stream",
     "text": [
      "Enter a list of numbers separated by spaces: 1 7 1 5 8 1\n",
      "Enter the number to remove: 1\n",
      "Original List: [1, 7, 1, 5, 8, 1]\n",
      "List after removing 1 : [7, 5, 8]\n"
     ]
    }
   ],
   "source": [
    "# Get the list from the user\n",
    "input_list = input(\"Enter a list of numbers separated by spaces: \").split()\n",
    "input_list = [int(num) for num in input_list]\n",
    "\n",
    "number_to_remove = int(input(\"Enter the number to remove: \"))\n",
    "output_list = []\n",
    "for num in input_list:\n",
    "    if num != number_to_remove:\n",
    "        output_list.append(num)\n",
    "\n",
    "print(\"Original List:\", input_list)\n",
    "print(\"List after removing\", number_to_remove, \":\", output_list)\n"
   ]
  },
  {
   "cell_type": "markdown",
   "id": "540906cb",
   "metadata": {},
   "source": [
    "## 7. Matrix Addition"
   ]
  },
  {
   "cell_type": "code",
   "execution_count": 2,
   "id": "1334441b",
   "metadata": {},
   "outputs": [
    {
     "name": "stdout",
     "output_type": "stream",
     "text": [
      "Enter the no of rows:3\n",
      "Enter the no of columns:3\n",
      "Enter the elements of first matrix:\n",
      "1\n",
      "2\n",
      "3\n",
      "4\n",
      "5\n",
      "6\n",
      "7\n",
      "8\n",
      "9\n",
      "First matrix is :\n",
      "[1, 2, 3]\n",
      "[4, 5, 6]\n",
      "[7, 8, 9]\n",
      "Enter the elements of second matrix:\n",
      "9\n",
      "8\n",
      "7\n",
      "4\n",
      "5\n",
      "6\n",
      "1\n",
      "2\n",
      "3\n",
      "Second matrix is :\n",
      "[9, 8, 7]\n",
      "[4, 5, 6]\n",
      "[1, 2, 3]\n",
      "The sum of the matrix is:\n",
      "[10, 10, 10]\n",
      "[8, 10, 12]\n",
      "[8, 10, 12]\n"
     ]
    }
   ],
   "source": [
    "rows=int(input(\"Enter the no of rows:\"))\n",
    "column=int(input(\"Enter the no of columns:\"))\n",
    "print(\"Enter the elements of first matrix:\")\n",
    "matrix_a=[[int(input()) for i in range(column)]for i in range(rows)]\n",
    "print(\"First matrix is :\")\n",
    "for n in matrix_a:\n",
    "    print(n)\n",
    "print(\"Enter the elements of second matrix:\")\n",
    "matrix_b=[[int(input()) for i in range(column)]for i in range(rows)]\n",
    "print(\"Second matrix is :\")\n",
    "for n in matrix_b:\n",
    "    print(n)\n",
    "result=[[0 for i in range(column)]for i in range(rows)]\n",
    "for i in range(rows):\n",
    "    for j in range(column):\n",
    "         result[i][j]=matrix_a[i][j]+matrix_b[i][j]\n",
    "print(\"The sum of the matrix is:\")\n",
    "for n in result:\n",
    "    print(n)"
   ]
  },
  {
   "cell_type": "markdown",
   "id": "ad89dc72",
   "metadata": {},
   "source": [
    "## 8. Read a tuple of numbers and print even tuple and odd tuple."
   ]
  },
  {
   "cell_type": "code",
   "execution_count": 10,
   "id": "a52bfc81",
   "metadata": {},
   "outputs": [
    {
     "name": "stdout",
     "output_type": "stream",
     "text": [
      "(1, 5, 7, 78, 5, 32)\n",
      "Even Tuples: [78, 32]\n",
      "Odd Tuples: [1, 5, 7, 5]\n"
     ]
    }
   ],
   "source": [
    "tuple1 = (1,5,7,78,5,32)\n",
    "list1 = list(tuple1)\n",
    "eventuples = []\n",
    "oddtuples = []\n",
    "for i in range (0,len(tuple1)):\n",
    "    if(list1[i]%2==0):\n",
    "        eventuples.append(list1[i])\n",
    "    else:\n",
    "        oddtuples.append(list1[i])\n",
    "print(tuple1)\n",
    "print(\"Even Tuples:\",eventuples)\n",
    "print(\"Odd Tuples:\",oddtuples)    "
   ]
  },
  {
   "cell_type": "markdown",
   "id": "cf7d9d1f",
   "metadata": {},
   "source": [
    "## 9. Book Stocking Using Dictionary"
   ]
  },
  {
   "cell_type": "code",
   "execution_count": 23,
   "id": "9c02dda5",
   "metadata": {},
   "outputs": [
    {
     "name": "stdout",
     "output_type": "stream",
     "text": [
      "Book Management System\n",
      "1. Add Books\n",
      "2. Delete Books\n",
      "3. Update Stock\n",
      "4. Exit\n",
      "Enter the Choice:1\n",
      "Enter the book you want to add :Into the wild\n",
      "Enter the stock value:7\n",
      "{'Half Girlfriend': 20, 'Harry Potter': 5, 'Two States': 25, 'wings of Fire': 6, 'Alchemist': 3, 'Into the Wild': 7, '1984': 17, 'A Brief History of Time': 10, 'Chronicles of Narnia': 78, 'Colouring Book': 3, 'Into the wild': 7}\n",
      "Book Management System\n",
      "1. Add Books\n",
      "2. Delete Books\n",
      "3. Update Stock\n",
      "4. Exit\n",
      "Enter the Choice:2\n",
      "Enter the book you want to delete :Two States\n",
      "{'Half Girlfriend': 20, 'Harry Potter': 5, 'wings of Fire': 6, 'Alchemist': 3, 'Into the Wild': 7, '1984': 17, 'A Brief History of Time': 10, 'Chronicles of Narnia': 78, 'Colouring Book': 3, 'Into the wild': 7}\n",
      "Book Management System\n",
      "1. Add Books\n",
      "2. Delete Books\n",
      "3. Update Stock\n",
      "4. Exit\n",
      "Enter the Choice:3\n",
      "Enter the book you want to update stock:1984\n",
      "Enter the updated stock value:10\n",
      "{'Half Girlfriend': 20, 'Harry Potter': 5, 'wings of Fire': 6, 'Alchemist': 3, 'Into the Wild': 7, '1984': 10, 'A Brief History of Time': 10, 'Chronicles of Narnia': 78, 'Colouring Book': 3, 'Into the wild': 7}\n",
      "Book Management System\n",
      "1. Add Books\n",
      "2. Delete Books\n",
      "3. Update Stock\n",
      "4. Exit\n",
      "Enter the Choice:4\n"
     ]
    }
   ],
   "source": [
    "books = {\n",
    "    \"Half Girlfriend\" : 20,\n",
    "    \"Harry Potter\" : 5,\n",
    "    \"Two States\" : 25,\n",
    "    \"wings of Fire\" : 6,\n",
    "    \"Alchemist\" : 3,\n",
    "    \"Into the Wild\" : 7,\n",
    "    \"1984\" : 17,\n",
    "    \"A Brief History of Time\" : 10,\n",
    "    \"Chronicles of Narnia\" : 78,\n",
    "    \"Colouring Book\" : 3\n",
    "}\n",
    "\n",
    "def stockupdates():\n",
    "    stockbook = input(\"Enter the book you want to update stock:\")\n",
    "    stockupdate = int(input(\"Enter the updated stock value:\"))\n",
    "    books[stockbook] = stockupdate\n",
    "\n",
    "def addbooks():\n",
    "    bookname = input(\"Enter the book you want to add :\")\n",
    "    stock = int(input(\"Enter the stock value:\"))\n",
    "    books[bookname] = stock \n",
    "\n",
    "def deletebooks():\n",
    "    bookname = input(\"Enter the book you want to delete :\")\n",
    "    books.pop(bookname)\n",
    "      \n",
    "while True:  \n",
    "    print(\"Book Management System\")  \n",
    "    print(\"1. Add Books\")  \n",
    "    print(\"2. Delete Books\")  \n",
    "    print(\"3. Update Stock\")\n",
    "    print(\"4. Exit\")\n",
    "    choice1 = int(input(\"Enter the Choice:\"))  \n",
    "  \n",
    "    if choice1 == 1:  \n",
    "        addbooks()\n",
    "        print(books)\n",
    "    elif choice1 == 2:\n",
    "        deletebooks()\n",
    "        print(books)\n",
    "    elif choice1 == 3:\n",
    "        stockupdates()\n",
    "        print(books)\n",
    "    elif choice1 == 4:\n",
    "        break\n",
    "    \n"
   ]
  },
  {
   "cell_type": "markdown",
   "id": "299c4c0b",
   "metadata": {},
   "source": [
    "## 10. Print Prime Numbers from a file"
   ]
  },
  {
   "cell_type": "code",
   "execution_count": 3,
   "id": "7ef138b1",
   "metadata": {
    "scrolled": true
   },
   "outputs": [
    {
     "name": "stdout",
     "output_type": "stream",
     "text": [
      "Enter the Filename:hello\n",
      "Enter Elements:\n",
      "10 4 2 3 11 13 55\n",
      "3\n",
      "11\n",
      "13\n"
     ]
    }
   ],
   "source": [
    "filename = input(\"Enter the Filename:\")\n",
    "f1 = open(filename,\"w\")\n",
    "print(\"Enter Elements:\")\n",
    "f1.write(input())\n",
    "f1.close()\n",
    "\n",
    "with open(filename,\"r\") as f2:\n",
    "    contents = f2.read()\n",
    "nlist = contents.split()\n",
    "\n",
    "for i in range(0,len(nlist)):\n",
    "    nlist[i] = int(nlist[i])\n",
    "    \n",
    "for i in nlist:\n",
    "    flag = False\n",
    "    if i==1:\n",
    "        print(\"1 is neither Prime Nor Composite.\")\n",
    "    elif i>2:\n",
    "        for j in range(2,i):\n",
    "            if(i%j==0):\n",
    "                flag = True\n",
    "                break\n",
    "    \n",
    "        if (flag==False):\n",
    "            print(i)"
   ]
  }
 ],
 "metadata": {
  "kernelspec": {
   "display_name": "Python 3 (ipykernel)",
   "language": "python",
   "name": "python3"
  },
  "language_info": {
   "codemirror_mode": {
    "name": "ipython",
    "version": 3
   },
   "file_extension": ".py",
   "mimetype": "text/x-python",
   "name": "python",
   "nbconvert_exporter": "python",
   "pygments_lexer": "ipython3",
   "version": "3.11.1"
  }
 },
 "nbformat": 4,
 "nbformat_minor": 5
}
