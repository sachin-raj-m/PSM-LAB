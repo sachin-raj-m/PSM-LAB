{
 "cells": [
  {
   "cell_type": "markdown",
   "id": "a0b6f096",
   "metadata": {},
   "source": [
    "## Sum of Numbers"
   ]
  },
  {
   "cell_type": "code",
   "execution_count": 1,
   "id": "c9d75707",
   "metadata": {},
   "outputs": [
    {
     "name": "stdout",
     "output_type": "stream",
     "text": [
      "Enter the limit of Number:5\n",
      "Sum of the Numbers: 15\n"
     ]
    }
   ],
   "source": [
    "n = int(input(\"Enter the limit of Number:\"))\n",
    "sum = 0\n",
    "\n",
    "for i in range(0,n+1):\n",
    "\tsum = sum+i\t\n",
    "print (\"Sum of the Numbers:\",sum)\n"
   ]
  },
  {
   "cell_type": "markdown",
   "id": "dafd316a",
   "metadata": {},
   "source": [
    "## Factorial "
   ]
  },
  {
   "cell_type": "code",
   "execution_count": 2,
   "id": "4d7a654e",
   "metadata": {},
   "outputs": [
    {
     "name": "stdout",
     "output_type": "stream",
     "text": [
      "Enter the limit of Number:5\n",
      "Factorial of the Number: 120\n"
     ]
    }
   ],
   "source": [
    "n = int(input(\"Enter the limit of Number:\"))\n",
    "fact = 1\n",
    "\n",
    "for i in range(1,n+1):\n",
    "\tfact *= i\t\n",
    "print (\"Factorial of the Number:\",fact)"
   ]
  },
  {
   "cell_type": "markdown",
   "id": "48f6681b",
   "metadata": {},
   "source": [
    "## Fibonacci Series "
   ]
  },
  {
   "cell_type": "code",
   "execution_count": 25,
   "id": "74adf401",
   "metadata": {},
   "outputs": [
    {
     "name": "stdout",
     "output_type": "stream",
     "text": [
      "Enter the limit to generate the Fibonacci Series:5\n",
      "Fibonacci Series:\n",
      " 0 \n",
      " 1\n",
      "1\n",
      "2\n",
      "3\n"
     ]
    }
   ],
   "source": [
    "num = int(input(\"Enter the limit to generate the Fibonacci Series:\"))\n",
    "n1, n2 = 0, 1\n",
    "print(\"Fibonacci Series:\\n\",n1,\"\\n\",n2)\n",
    "\n",
    "for i in range(2, num):\n",
    "    n3 = n1 + n2\n",
    "    n1 = n2\n",
    "    n2 = n3\n",
    "    print(n3)"
   ]
  },
  {
   "cell_type": "markdown",
   "id": "16c0b900",
   "metadata": {},
   "source": [
    "## Palindrome Number"
   ]
  },
  {
   "cell_type": "code",
   "execution_count": 4,
   "id": "d7dc7b24",
   "metadata": {},
   "outputs": [
    {
     "name": "stdout",
     "output_type": "stream",
     "text": [
      "Enter the Number:101\n",
      "101 is a Palindrome Number\n"
     ]
    }
   ],
   "source": [
    "n = int(input(\"Enter the Number:\"))\n",
    "copyn = n\n",
    "rev = 0\n",
    "\n",
    "while n!=0:\n",
    "\tr = n%10\n",
    "\trev = (rev*10) + r\n",
    "\tn//=10\n",
    "if rev == copyn:\n",
    "\tprint (copyn,\"is a Palindrome Number\")\n",
    "else:\n",
    "\tprint (copyn,\"is not a Palindrome Number\")\n",
    "\n"
   ]
  },
  {
   "cell_type": "markdown",
   "id": "8b8eb5fd",
   "metadata": {},
   "source": [
    "## Surface Area and Volume of Cylinder"
   ]
  },
  {
   "cell_type": "code",
   "execution_count": 5,
   "id": "cb5baa13",
   "metadata": {},
   "outputs": [
    {
     "name": "stdout",
     "output_type": "stream",
     "text": [
      "Enter the Radius:5\n",
      "Enter the Height:10\n",
      "The Volume of Cylinder: 1570.0\n",
      "The Surface Area of Cylinder: 628.0\n"
     ]
    }
   ],
   "source": [
    "r = int(input(\"Enter the Radius:\"))\n",
    "h = int(input(\"Enter the Height:\"))\n",
    "pi = 3.14\n",
    "\n",
    "def volume(r,h,pi):\n",
    "\tvol = 2*pi*r*r*h\n",
    "\tprint (\"The Volume of Cylinder:\",vol)\n",
    "\n",
    "\n",
    "def area(r,h,pi):\n",
    "\tsarea = (2*pi*r*h)*2\n",
    "\tprint (\"The Surface Area of Cylinder:\",sarea)\n",
    "\n",
    "volume(r,h,pi)\n",
    "area(r,h,pi)\n"
   ]
  },
  {
   "cell_type": "markdown",
   "id": "32d72f7e",
   "metadata": {},
   "source": [
    "## String Palindrome"
   ]
  },
  {
   "cell_type": "code",
   "execution_count": 6,
   "id": "1f46bee0",
   "metadata": {},
   "outputs": [
    {
     "name": "stdout",
     "output_type": "stream",
     "text": [
      "Enter a string:Malayalam\n",
      "Not a palindrome\n"
     ]
    }
   ],
   "source": [
    "str=input(\"Enter a string:\")\n",
    "str1=str\n",
    "rev=str[::-1]\n",
    "if(str1==rev):\n",
    "    print(\"It is a palindrome\")\n",
    "else:\n",
    "    print(\"Not a palindrome\")"
   ]
  },
  {
   "cell_type": "markdown",
   "id": "6003fc6c",
   "metadata": {},
   "source": [
    "## Substring Frequency"
   ]
  },
  {
   "cell_type": "code",
   "execution_count": 7,
   "id": "ecb671ea",
   "metadata": {},
   "outputs": [
    {
     "name": "stdout",
     "output_type": "stream",
     "text": [
      "Enter a string:Hello Hi\n",
      "Enter the word to be searched:Hi\n",
      "['Hello', 'Hi']\n",
      "Hi found 1 times\n"
     ]
    }
   ],
   "source": [
    "str=input(\"Enter a string:\")\n",
    "a=str.split()\n",
    "str1=input(\"Enter the word to be searched:\")\n",
    "count=0\n",
    "print(a)\n",
    "for i in range(0,len(a)):\n",
    "    if(a[i]==str1):\n",
    "        count+=1\n",
    "print(str1,\"found\",count,\"times\")"
   ]
  },
  {
   "cell_type": "markdown",
   "id": "078dee18",
   "metadata": {},
   "source": [
    "## Tuple Comparison"
   ]
  },
  {
   "cell_type": "code",
   "execution_count": 8,
   "id": "dda0c281",
   "metadata": {},
   "outputs": [
    {
     "name": "stdout",
     "output_type": "stream",
     "text": [
      "Tuples are Same\n",
      "Maximum Element in Tuple 1: 5\n",
      "Maximum Element in Tuple 2: 5\n",
      "Minimum Element in Tuple 1: 1\n",
      "Minimum Element in Tuple 2: 1\n"
     ]
    }
   ],
   "source": [
    "tuple1 = (1,2,3,4,5)\n",
    "tuple2 = (1,2,3,4,5)\n",
    "\n",
    "def cmp(a,b):\n",
    "    return (a>b) - (a<b)\n",
    "\n",
    "if(cmp(tuple1,tuple2)!=0):\n",
    "    print (\"The Two Tuples are different.\")\n",
    "else:\n",
    "    print (\"Tuples are Same\")\n",
    "\n",
    "print(\"Maximum Element in Tuple 1:\",max(tuple1))\n",
    "print(\"Maximum Element in Tuple 2:\",max(tuple2))\n",
    "print(\"Minimum Element in Tuple 1:\",min(tuple1))\n",
    "print(\"Minimum Element in Tuple 2:\",min(tuple2))"
   ]
  },
  {
   "cell_type": "markdown",
   "id": "4bb080fd",
   "metadata": {},
   "source": [
    "## Chi - Square Test"
   ]
  },
  {
   "cell_type": "code",
   "execution_count": 9,
   "id": "b3c64d11",
   "metadata": {},
   "outputs": [
    {
     "name": "stdout",
     "output_type": "stream",
     "text": [
      "Chi Square Test Statistic is: 256.74645161290323\n",
      "P Value: 1.960453403727085e-53\n"
     ]
    }
   ],
   "source": [
    "import scipy.stats as stats\n",
    "import numpy as np\n",
    "observed_data = [11,34,33,5,23,7]\n",
    "expected_data = [25,25,25,31,2,5]\n",
    "chi_square_test_statistic, p_value = stats.chisquare(observed_data,expected_data)\n",
    "print(\"Chi Square Test Statistic is:\",chi_square_test_statistic)\n",
    "print(\"P Value:\",p_value)"
   ]
  },
  {
   "cell_type": "markdown",
   "id": "f42e75b6",
   "metadata": {},
   "source": [
    "## T-Test "
   ]
  },
  {
   "cell_type": "code",
   "execution_count": 10,
   "id": "c120a248",
   "metadata": {},
   "outputs": [
    {
     "name": "stdout",
     "output_type": "stream",
     "text": [
      "19.96484375 430.90234375\n"
     ]
    },
    {
     "data": {
      "text/plain": [
       "Ttest_indResult(statistic=-1.5503874357111311, pvalue=0.1315349962804813)"
      ]
     },
     "execution_count": 10,
     "metadata": {},
     "output_type": "execute_result"
    }
   ],
   "source": [
    "import scipy.stats as stats\n",
    "import numpy as np\n",
    "data_group1 = np.array([10,12,0,15,15,20,15,18,12,13,11,19,17,15,13,14])\n",
    "data_group2 = np.array([25,45,11,23,12,1,2,45,12,13,13,19,17,15,88,14])\n",
    "\n",
    "print(np.var(data_group1),np.var(data_group2))\n",
    "stats.ttest_ind(a = data_group1,b = data_group2,equal_var = True)"
   ]
  },
  {
   "cell_type": "markdown",
   "id": "83e60e95",
   "metadata": {},
   "source": [
    "## Binomial Distribution"
   ]
  },
  {
   "cell_type": "code",
   "execution_count": 24,
   "id": "d9d6e840",
   "metadata": {
    "scrolled": false
   },
   "outputs": [
    {
     "data": {
      "image/png": "[encoded data removed]",
      "text/plain": [
       "<Figure size 500x500 with 1 Axes>"
      ]
     },
     "metadata": {},
     "output_type": "display_data"
    }
   ],
   "source": [
    "import seaborn\n",
    "from scipy.stats import binom\n",
    "data = binom.rvs(n=17,p=0.7,size=1010)\n",
    "ax = seaborn.displot(data, kde=True, color='red', linewidth= 2.2, alpha= 0.77)\n",
    "ax.set(xlabel='Binomial',ylabel='Frequency')\n",
    "plt.show()"
   ]
  },
  {
   "cell_type": "markdown",
   "id": "8576965f",
   "metadata": {},
   "source": [
    "## Poisson Distribution"
   ]
  },
  {
   "cell_type": "code",
   "execution_count": 23,
   "id": "b5b9fa22",
   "metadata": {},
   "outputs": [
    {
     "data": {
      "image/png": "[encoded data removed]",
      "text/plain": [
       "<Figure size 500x500 with 1 Axes>"
      ]
     },
     "metadata": {},
     "output_type": "display_data"
    }
   ],
   "source": [
    "import seaborn as sns\n",
    "import matplotlib.pyplot as plt\n",
    "from scipy.stats import poisson\n",
    "\n",
    "data = poisson.rvs(mu=17, size=100)\n",
    "\n",
    "ax = sns.displot(data, kde=True)\n",
    "\n",
    "ax.set_axis_labels(x_var='Poisson', y_var='Frequency')\n",
    "plt.show()"
   ]
  },
  {
   "cell_type": "markdown",
   "id": "def317d7",
   "metadata": {},
   "source": [
    "## Matrix Multiplication"
   ]
  },
  {
   "cell_type": "code",
   "execution_count": 10,
   "id": "61742557",
   "metadata": {},
   "outputs": [
    {
     "name": "stdout",
     "output_type": "stream",
     "text": [
      "Enter the no of rows:2\n",
      "Enter the no of columns:2\n",
      "Enter the elements of first matrix:\n",
      "1\n",
      "2\n",
      "3\n",
      "4\n",
      "First matrix is :\n",
      "[1, 2]\n",
      "[3, 4]\n",
      "Enter the elements of second matrix:\n",
      "1\n",
      "2\n",
      "3\n",
      "4\n",
      "Second matrix is :\n",
      "[1, 2]\n",
      "[3, 4]\n",
      "The product of the matrix is:\n",
      "[[ 7 10]\n",
      " [15 22]]\n"
     ]
    }
   ],
   "source": [
    "import numpy as np\n",
    "rows=int(input(\"Enter the no of rows:\"))\n",
    "column=int(input(\"Enter the no of columns:\"))\n",
    "print(\"Enter the elements of first matrix:\")\n",
    "matrix_a=[[int(input()) for i in range(column)]for i in range(rows)]\n",
    "print(\"First matrix is :\")\n",
    "for n in matrix_a:\n",
    "    print(n)\n",
    "print(\"Enter the elements of second matrix:\")\n",
    "matrix_b=[[int(input()) for i in range(column)]for i in range(rows)]\n",
    "print(\"Second matrix is :\")\n",
    "for n in matrix_b:\n",
    "    print(n)\n",
    "\n",
    "print(\"The product of the matrix is:\")    \n",
    "result = np.dot(matrix_a,matrix_b)\n",
    "print(result)"
   ]
  }
 ],
 "metadata": {
  "kernelspec": {
   "display_name": "Python 3 (ipykernel)",
   "language": "python",
   "name": "python3"
  },
  "language_info": {
   "codemirror_mode": {
    "name": "ipython",
    "version": 3
   },
   "file_extension": ".py",
   "mimetype": "text/x-python",
   "name": "python",
   "nbconvert_exporter": "python",
   "pygments_lexer": "ipython3",
   "version": "3.11.1"
  }
 },
 "nbformat": 4,
 "nbformat_minor": 5
}
