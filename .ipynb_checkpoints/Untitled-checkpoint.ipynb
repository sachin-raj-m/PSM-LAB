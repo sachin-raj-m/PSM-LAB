{
 "cells": [
  {
   "cell_type": "markdown",
   "id": "a0b6f096",
   "metadata": {},
   "source": [
    "## Sum of Numbers"
   ]
  },
  {
   "cell_type": "code",
   "execution_count": 4,
   "id": "c9d75707",
   "metadata": {},
   "outputs": [
    {
     "name": "stdout",
     "output_type": "stream",
     "text": [
      "Enter the limit of Number:5\n",
      "Sum of the Numbers: 15\n"
     ]
    }
   ],
   "source": [
    "n = int(input(\"Enter the limit of Number:\"))\n",
    "sum = 0\n",
    "\n",
    "for i in range(0,n+1):\n",
    "\tsum = sum+i\t\n",
    "print (\"Sum of the Numbers:\",sum)\n"
   ]
  },
  {
   "cell_type": "markdown",
   "id": "dafd316a",
   "metadata": {},
   "source": [
    "## Factorial "
   ]
  },
  {
   "cell_type": "code",
   "execution_count": 5,
   "id": "4d7a654e",
   "metadata": {},
   "outputs": [
    {
     "name": "stdout",
     "output_type": "stream",
     "text": [
      "Enter the limit of Number:5\n",
      "Factorial of the Number: 120\n"
     ]
    }
   ],
   "source": [
    "n = int(input(\"Enter the limit of Number:\"))\n",
    "fact = 1\n",
    "\n",
    "for i in range(1,n+1):\n",
    "\tfact *= i\t\n",
    "print (\"Factorial of the Number:\",fact)"
   ]
  },
  {
   "cell_type": "markdown",
   "id": "48f6681b",
   "metadata": {},
   "source": [
    "## Fibonacci Series "
   ]
  },
  {
   "cell_type": "code",
   "execution_count": 14,
   "id": "74adf401",
   "metadata": {},
   "outputs": [
    {
     "name": "stdout",
     "output_type": "stream",
     "text": [
      "Fibonacci Series:\n",
      " 0 \n",
      " 1\n",
      "1\n",
      "2\n",
      "3\n",
      "5\n",
      "8\n",
      "13\n",
      "21\n",
      "34\n"
     ]
    }
   ],
   "source": [
    "num = 10\n",
    "n1, n2 = 0, 1\n",
    "print(\"Fibonacci Series:\\n\",n1,\"\\n\",n2)\n",
    "\n",
    "for i in range(2, num):\n",
    "    n3 = n1 + n2\n",
    "    n1 = n2\n",
    "    n2 = n3\n",
    "    print(n3)\n",
    "\n",
    "\n"
   ]
  },
  {
   "cell_type": "markdown",
   "id": "16c0b900",
   "metadata": {},
   "source": [
    "## Palindrome Number"
   ]
  },
  {
   "cell_type": "code",
   "execution_count": 29,
   "id": "d7dc7b24",
   "metadata": {},
   "outputs": [
    {
     "name": "stdout",
     "output_type": "stream",
     "text": [
      "Enter the Number:101\n",
      "101\n",
      "101 is a Palindrome Number\n"
     ]
    }
   ],
   "source": [
    "n = int(input(\"Enter the Number:\"))\n",
    "copyn = n\n",
    "rev = 0\n",
    "\n",
    "while n!=0:\n",
    "\tr = n%10\n",
    "\trev = (rev*10) + r\n",
    "\tn//=10\n",
    "if rev == copyn:\n",
    "\tprint (copyn,\"is a Palindrome Number\")\n",
    "else:\n",
    "\tprint (copyn,\"is not a Palindrome Number\")\n",
    "\n"
   ]
  },
  {
   "cell_type": "markdown",
   "id": "8b8eb5fd",
   "metadata": {},
   "source": [
    "## Surface Area and Volume of Cylinder"
   ]
  },
  {
   "cell_type": "code",
   "execution_count": 30,
   "id": "cb5baa13",
   "metadata": {},
   "outputs": [
    {
     "name": "stdout",
     "output_type": "stream",
     "text": [
      "Enter the Radius:5\n",
      "Enter the Height:10\n",
      "The Volume of Cylinder: 1570.0\n",
      "The Surface Area of Cylinder: 628.0\n"
     ]
    }
   ],
   "source": [
    "r = int(input(\"Enter the Radius:\"))\n",
    "h = int(input(\"Enter the Height:\"))\n",
    "pi = 3.14\n",
    "\n",
    "def volume(r,h,pi):\n",
    "\tvol = 2*pi*r*r*h\n",
    "\tprint (\"The Volume of Cylinder:\",vol)\n",
    "\n",
    "\n",
    "def area(r,h,pi):\n",
    "\tsarea = (2*pi*r*h)*2\n",
    "\tprint (\"The Surface Area of Cylinder:\",sarea)\n",
    "\n",
    "volume(r,h,pi)\n",
    "area(r,h,pi)\n"
   ]
  },
  {
   "cell_type": "markdown",
   "id": "32d72f7e",
   "metadata": {},
   "source": [
    "## String Palindrome"
   ]
  },
  {
   "cell_type": "code",
   "execution_count": 32,
   "id": "1f46bee0",
   "metadata": {},
   "outputs": [
    {
     "name": "stdout",
     "output_type": "stream",
     "text": [
      "Enter a string:malayalam\n",
      "it is a palindrome\n"
     ]
    }
   ],
   "source": [
    "str=input(\"Enter a string:\")\n",
    "str1=str\n",
    "rev=str[::-1]\n",
    "if(str1==rev):\n",
    "    print(\"It is a palindrome\")\n",
    "else:\n",
    "    print(\"Not a palindrome\")"
   ]
  },
  {
   "cell_type": "markdown",
   "id": "6003fc6c",
   "metadata": {},
   "source": [
    "## Substring Frequency"
   ]
  },
  {
   "cell_type": "code",
   "execution_count": 34,
   "id": "ecb671ea",
   "metadata": {},
   "outputs": [
    {
     "name": "stdout",
     "output_type": "stream",
     "text": [
      "Enter a string:substring frequency example - substring\n",
      "Enter the word to be searched:substring\n",
      "['substring', 'frequency', 'example', '-', 'substring']\n",
      "substring found 2 times\n"
     ]
    }
   ],
   "source": [
    "str=input(\"Enter a string:\")\n",
    "a=str.split()\n",
    "str1=input(\"Enter the word to be searched:\")\n",
    "count=0\n",
    "print(a)\n",
    "for i in range(0,len(a)):\n",
    "    if(a[i]==str1):\n",
    "        count+=1\n",
    "print(str1,\"found\",count,\"times\")"
   ]
  },
  {
   "cell_type": "markdown",
   "id": "078dee18",
   "metadata": {},
   "source": [
    "## Tuple Comparison"
   ]
  },
  {
   "cell_type": "code",
   "execution_count": 35,
   "id": "dda0c281",
   "metadata": {},
   "outputs": [
    {
     "name": "stdout",
     "output_type": "stream",
     "text": [
      "Tuples are Same\n",
      "Maximum Element in Tuple 1: 5\n",
      "Maximum Element in Tuple 2: 5\n",
      "Minimum Element in Tuple 1: 1\n",
      "Minimum Element in Tuple 2: 1\n"
     ]
    }
   ],
   "source": [
    "tuple1 = (1,2,3,4,5)\n",
    "tuple2 = (1,2,3,4,5)\n",
    "\n",
    "def cmp(a,b):\n",
    "    return (a>b) - (a<b)\n",
    "\n",
    "if(cmp(tuple1,tuple2)!=0):\n",
    "    print (\"The Two Tuples are different.\")\n",
    "else:\n",
    "    print (\"Tuples are Same\")\n",
    "\n",
    "print(\"Maximum Element in Tuple 1:\",max(tuple1))\n",
    "print(\"Maximum Element in Tuple 2:\",max(tuple2))\n",
    "print(\"Minimum Element in Tuple 1:\",min(tuple1))\n",
    "print(\"Minimum Element in Tuple 2:\",min(tuple2))"
   ]
  },
  {
   "cell_type": "markdown",
   "id": "4bb080fd",
   "metadata": {},
   "source": [
    "##"
   ]
  }
 ],
 "metadata": {
  "kernelspec": {
   "display_name": "Python 3 (ipykernel)",
   "language": "python",
   "name": "python3"
  },
  "language_info": {
   "codemirror_mode": {
    "name": "ipython",
    "version": 3
   },
   "file_extension": ".py",
   "mimetype": "text/x-python",
   "name": "python",
   "nbconvert_exporter": "python",
   "pygments_lexer": "ipython3",
   "version": "3.11.1"
  }
 },
 "nbformat": 4,
 "nbformat_minor": 5
}
