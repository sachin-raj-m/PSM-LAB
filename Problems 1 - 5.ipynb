{
 "cells": [
  {
   "cell_type": "markdown",
   "id": "7bd682e6",
   "metadata": {},
   "source": [
    "## Largest of Threee Numbers"
   ]
  },
  {
   "cell_type": "code",
   "execution_count": 1,
   "id": "5c0df519",
   "metadata": {},
   "outputs": [
    {
     "name": "stdout",
     "output_type": "stream",
     "text": [
      "Enter the First Number:50\n",
      "Enter the Second Number:44\n",
      "Enter the Third Number:2\n",
      "50 is the greatest Number.\n"
     ]
    }
   ],
   "source": [
    "a = int(input(\"Enter the First Number:\"))\n",
    "b = int(input(\"Enter the Second Number:\"))\n",
    "c = int(input(\"Enter the Third Number:\"))\n",
    "\n",
    "if(a>b and a>c):\n",
    "\tprint (a,\"is the greatest Number.\")\n",
    "elif b>c:\n",
    "\tprint (b, \"is the greatest Number.\")\n",
    "else:\n",
    "\tprint (c, \"is the greatest Number.\")\n"
   ]
  },
  {
   "cell_type": "markdown",
   "id": "7d343040",
   "metadata": {},
   "source": [
    "## Multiplication Table"
   ]
  },
  {
   "cell_type": "code",
   "execution_count": 2,
   "id": "87950bc7",
   "metadata": {},
   "outputs": [
    {
     "name": "stdout",
     "output_type": "stream",
     "text": [
      "Enter the Number to display the Multiplication Table of:8\n",
      "Enter the maximum number of factors to display12\n",
      "8 * 1 = 8\n",
      "8 * 2 = 16\n",
      "8 * 3 = 24\n",
      "8 * 4 = 32\n",
      "8 * 5 = 40\n",
      "8 * 6 = 48\n",
      "8 * 7 = 56\n",
      "8 * 8 = 64\n",
      "8 * 9 = 72\n",
      "8 * 10 = 80\n",
      "8 * 11 = 88\n",
      "8 * 12 = 96\n"
     ]
    }
   ],
   "source": [
    "n = int(input(\"Enter the Number to display the Multiplication Table of:\"))\n",
    "size = int(input(\"Enter the maximum number of factors to display\"))\n",
    "for i in range (1, size+1):\n",
    "    print (n,\"*\",i, \"=\", n*i)\n"
   ]
  },
  {
   "cell_type": "markdown",
   "id": "0fca3577",
   "metadata": {},
   "source": [
    "## Voume and Surface Area of a Cylinder"
   ]
  },
  {
   "cell_type": "code",
   "execution_count": null,
   "id": "d1f81bb8",
   "metadata": {},
   "outputs": [],
   "source": [
    "r = int(input(\"Enter the Radius:\"))\n",
    "h = int(input(\"Enter the Height:\"))\n",
    "pi = 3.14\n",
    "\n",
    "def volume(r,h,pi):\n",
    "\tvol = 2*pi*r*r*h\n",
    "\tprint (\"The Volume of Cylinder:\",vol)\n",
    "\n",
    "\n",
    "def area(r,h,pi):\n",
    "\tsarea = (2*pi*r*h)*2\n",
    "\tprint (\"The Surface Area of Cylinder:\",sarea)\n",
    "\n",
    "volume(r,h,pi)\n",
    "area(r,h,pi)\n"
   ]
  },
  {
   "cell_type": "markdown",
   "id": "a8355886",
   "metadata": {},
   "source": [
    "## Replace a word by another word in a sentence."
   ]
  },
  {
   "cell_type": "code",
   "execution_count": 3,
   "id": "4e1ac077",
   "metadata": {},
   "outputs": [
    {
     "name": "stdout",
     "output_type": "stream",
     "text": [
      "Enter the string:hello world\n",
      "The word to be replaced:world\n",
      "The word used to replace:universe\n",
      "hello universe\n"
     ]
    }
   ],
   "source": [
    "str1=input(\"Enter the string:\")\n",
    "str2=input(\"The word to be replaced:\")\n",
    "str3=input(\"The word used to replace:\")\n",
    "str4=str1.replace(str2,str3)\n",
    "print(str4)"
   ]
  },
  {
   "cell_type": "markdown",
   "id": "893e3a0a",
   "metadata": {},
   "source": [
    "## Email Verification"
   ]
  },
  {
   "cell_type": "code",
   "execution_count": null,
   "id": "d7ca6a29",
   "metadata": {},
   "outputs": [],
   "source": [
    "#from validate_email import validate_email  \n",
    "  \n",
    "#email = input(\"Enter the Email to be verfied\")\n",
    "#is_valid = validate_email(email)  \n",
    "  \n",
    "#if is_valid:  \n",
    "   # print(\"Valid email address\")  \n",
    "#else:  \n",
    "  #  print(\"Invalid email address\")  \n",
    "\n",
    "import re  \n",
    "def validate_email(email):  \n",
    "    if re.match(r\"[^@]+@[^@]+\\.[^@]+\", email):  \n",
    "        return True  \n",
    "    return False  \n",
    "  \n",
    "email = input(\"Enter the Email to be verfied\")\n",
    "if validate_email(email):  \n",
    "    print(\"Valid email address\")  \n",
    "else:  \n",
    "    print(\"Invalid email address\")  "
   ]
  }
 ],
 "metadata": {
  "kernelspec": {
   "display_name": "Python 3 (ipykernel)",
   "language": "python",
   "name": "python3"
  },
  "language_info": {
   "codemirror_mode": {
    "name": "ipython",
    "version": 3
   },
   "file_extension": ".py",
   "mimetype": "text/x-python",
   "name": "python",
   "nbconvert_exporter": "python",
   "pygments_lexer": "ipython3",
   "version": "3.11.1"
  }
 },
 "nbformat": 4,
 "nbformat_minor": 5
}
