{
 "cells": [
  {
   "cell_type": "markdown",
   "id": "7bd682e6",
   "metadata": {},
   "source": [
    "## Largest of Threee Numbers"
   ]
  },
  {
   "cell_type": "code",
   "execution_count": 1,
   "id": "5c0df519",
   "metadata": {},
   "outputs": [
    {
     "ename": "KeyboardInterrupt",
     "evalue": "Interrupted by user",
     "output_type": "error",
     "traceback": [
      "\u001b[1;31m---------------------------------------------------------------------------\u001b[0m",
      "\u001b[1;31mKeyboardInterrupt\u001b[0m                         Traceback (most recent call last)",
      "Cell \u001b[1;32mIn[1], line 1\u001b[0m\n\u001b[1;32m----> 1\u001b[0m a \u001b[38;5;241m=\u001b[39m \u001b[38;5;28mint\u001b[39m(\u001b[38;5;28;43minput\u001b[39;49m\u001b[43m(\u001b[49m\u001b[38;5;124;43m\"\u001b[39;49m\u001b[38;5;124;43mEnter the First Number:\u001b[39;49m\u001b[38;5;124;43m\"\u001b[39;49m\u001b[43m)\u001b[49m)\n\u001b[0;32m      2\u001b[0m b \u001b[38;5;241m=\u001b[39m \u001b[38;5;28mint\u001b[39m(\u001b[38;5;28minput\u001b[39m(\u001b[38;5;124m\"\u001b[39m\u001b[38;5;124mEnter the Second Number:\u001b[39m\u001b[38;5;124m\"\u001b[39m))\n\u001b[0;32m      3\u001b[0m c \u001b[38;5;241m=\u001b[39m \u001b[38;5;28mint\u001b[39m(\u001b[38;5;28minput\u001b[39m(\u001b[38;5;124m\"\u001b[39m\u001b[38;5;124mEnter the Third Number:\u001b[39m\u001b[38;5;124m\"\u001b[39m))\n",
      "File \u001b[1;32m~\\AppData\\Local\\Programs\\Python\\Python311\\Lib\\site-packages\\ipykernel\\kernelbase.py:1191\u001b[0m, in \u001b[0;36mKernel.raw_input\u001b[1;34m(self, prompt)\u001b[0m\n\u001b[0;32m   1189\u001b[0m     msg \u001b[38;5;241m=\u001b[39m \u001b[38;5;124m\"\u001b[39m\u001b[38;5;124mraw_input was called, but this frontend does not support input requests.\u001b[39m\u001b[38;5;124m\"\u001b[39m\n\u001b[0;32m   1190\u001b[0m     \u001b[38;5;28;01mraise\u001b[39;00m StdinNotImplementedError(msg)\n\u001b[1;32m-> 1191\u001b[0m \u001b[38;5;28;01mreturn\u001b[39;00m \u001b[38;5;28;43mself\u001b[39;49m\u001b[38;5;241;43m.\u001b[39;49m\u001b[43m_input_request\u001b[49m\u001b[43m(\u001b[49m\n\u001b[0;32m   1192\u001b[0m \u001b[43m    \u001b[49m\u001b[38;5;28;43mstr\u001b[39;49m\u001b[43m(\u001b[49m\u001b[43mprompt\u001b[49m\u001b[43m)\u001b[49m\u001b[43m,\u001b[49m\n\u001b[0;32m   1193\u001b[0m \u001b[43m    \u001b[49m\u001b[38;5;28;43mself\u001b[39;49m\u001b[38;5;241;43m.\u001b[39;49m\u001b[43m_parent_ident\u001b[49m\u001b[43m[\u001b[49m\u001b[38;5;124;43m\"\u001b[39;49m\u001b[38;5;124;43mshell\u001b[39;49m\u001b[38;5;124;43m\"\u001b[39;49m\u001b[43m]\u001b[49m\u001b[43m,\u001b[49m\n\u001b[0;32m   1194\u001b[0m \u001b[43m    \u001b[49m\u001b[38;5;28;43mself\u001b[39;49m\u001b[38;5;241;43m.\u001b[39;49m\u001b[43mget_parent\u001b[49m\u001b[43m(\u001b[49m\u001b[38;5;124;43m\"\u001b[39;49m\u001b[38;5;124;43mshell\u001b[39;49m\u001b[38;5;124;43m\"\u001b[39;49m\u001b[43m)\u001b[49m\u001b[43m,\u001b[49m\n\u001b[0;32m   1195\u001b[0m \u001b[43m    \u001b[49m\u001b[43mpassword\u001b[49m\u001b[38;5;241;43m=\u001b[39;49m\u001b[38;5;28;43;01mFalse\u001b[39;49;00m\u001b[43m,\u001b[49m\n\u001b[0;32m   1196\u001b[0m \u001b[43m\u001b[49m\u001b[43m)\u001b[49m\n",
      "File \u001b[1;32m~\\AppData\\Local\\Programs\\Python\\Python311\\Lib\\site-packages\\ipykernel\\kernelbase.py:1234\u001b[0m, in \u001b[0;36mKernel._input_request\u001b[1;34m(self, prompt, ident, parent, password)\u001b[0m\n\u001b[0;32m   1231\u001b[0m \u001b[38;5;28;01mexcept\u001b[39;00m \u001b[38;5;167;01mKeyboardInterrupt\u001b[39;00m:\n\u001b[0;32m   1232\u001b[0m     \u001b[38;5;66;03m# re-raise KeyboardInterrupt, to truncate traceback\u001b[39;00m\n\u001b[0;32m   1233\u001b[0m     msg \u001b[38;5;241m=\u001b[39m \u001b[38;5;124m\"\u001b[39m\u001b[38;5;124mInterrupted by user\u001b[39m\u001b[38;5;124m\"\u001b[39m\n\u001b[1;32m-> 1234\u001b[0m     \u001b[38;5;28;01mraise\u001b[39;00m \u001b[38;5;167;01mKeyboardInterrupt\u001b[39;00m(msg) \u001b[38;5;28;01mfrom\u001b[39;00m \u001b[38;5;28;01mNone\u001b[39;00m\n\u001b[0;32m   1235\u001b[0m \u001b[38;5;28;01mexcept\u001b[39;00m \u001b[38;5;167;01mException\u001b[39;00m:\n\u001b[0;32m   1236\u001b[0m     \u001b[38;5;28mself\u001b[39m\u001b[38;5;241m.\u001b[39mlog\u001b[38;5;241m.\u001b[39mwarning(\u001b[38;5;124m\"\u001b[39m\u001b[38;5;124mInvalid Message:\u001b[39m\u001b[38;5;124m\"\u001b[39m, exc_info\u001b[38;5;241m=\u001b[39m\u001b[38;5;28;01mTrue\u001b[39;00m)\n",
      "\u001b[1;31mKeyboardInterrupt\u001b[0m: Interrupted by user"
     ]
    }
   ],
   "source": [
    "a = int(input(\"Enter the First Number:\"))\n",
    "b = int(input(\"Enter the Second Number:\"))\n",
    "c = int(input(\"Enter the Third Number:\"))\n",
    "\n",
    "if(a>b and a>c):\n",
    "\tprint (a,\"is the greatest Number.\")\n",
    "elif b>c:\n",
    "\tprint (b, \"is the greatest Number.\")\n",
    "else:\n",
    "\tprint (c, \"is the greatest Number.\")\n"
   ]
  },
  {
   "cell_type": "markdown",
   "id": "7d343040",
   "metadata": {},
   "source": [
    "## Multiplication Table"
   ]
  },
  {
   "cell_type": "code",
   "execution_count": null,
   "id": "87950bc7",
   "metadata": {},
   "outputs": [],
   "source": [
    "n = int(input(\"Enter the Number to display the Multiplication Table of:\"))\n",
    "size = int(input(\"Enter the maximum number of factors to display\"))\n",
    "for i in range (1, size+1):\n",
    "    print (n,\"*\",i, \"=\", n*i)\n"
   ]
  },
  {
   "cell_type": "markdown",
   "id": "0fca3577",
   "metadata": {},
   "source": [
    "## Voume and Surface Area of a Cylinder"
   ]
  },
  {
   "cell_type": "code",
   "execution_count": null,
   "id": "d1f81bb8",
   "metadata": {},
   "outputs": [],
   "source": [
    "r = int(input(\"Enter the Radius:\"))\n",
    "h = int(input(\"Enter the Height:\"))\n",
    "pi = 3.14\n",
    "\n",
    "def volume(r,h,pi):\n",
    "\tvol = 2*pi*r*r*h\n",
    "\tprint (\"The Volume of Cylinder:\",vol)\n",
    "\n",
    "\n",
    "def area(r,h,pi):\n",
    "\tsarea = (2*pi*r*h)*2\n",
    "\tprint (\"The Surface Area of Cylinder:\",sarea)\n",
    "\n",
    "volume(r,h,pi)\n",
    "area(r,h,pi)\n"
   ]
  },
  {
   "cell_type": "markdown",
   "id": "a8355886",
   "metadata": {},
   "source": [
    "## Replace a word by another word in a sentence."
   ]
  },
  {
   "cell_type": "code",
   "execution_count": null,
   "id": "4e1ac077",
   "metadata": {},
   "outputs": [],
   "source": [
    "str1=input(\"Enter the string:\")\n",
    "str2=input(\"The word to be replaced:\")\n",
    "str3=input(\"The word used to replace:\")\n",
    "str4=str1.replace(str2,str3)\n",
    "print(str4)"
   ]
  },
  {
   "cell_type": "markdown",
   "id": "893e3a0a",
   "metadata": {},
   "source": [
    "## Email Verification"
   ]
  },
  {
   "cell_type": "code",
   "execution_count": null,
   "id": "d7ca6a29",
   "metadata": {},
   "outputs": [],
   "source": [
    "#from validate_email import validate_email  \n",
    "  \n",
    "#email = input(\"Enter the Email to be verfied\")\n",
    "#is_valid = validate_email(email)  \n",
    "  \n",
    "#if is_valid:  \n",
    "   # print(\"Valid email address\")  \n",
    "#else:  \n",
    "  #  print(\"Invalid email address\")  \n",
    "\n",
    "import re  \n",
    "def validate_email(email):  \n",
    "    if re.match(r\"[^@]+@[^@]+\\.[^@]+\", email):  \n",
    "        return True  \n",
    "    return False  \n",
    "  \n",
    "email = input(\"Enter the Email to be verfied\")\n",
    "if validate_email(email):  \n",
    "    print(\"Valid email address\")  \n",
    "else:  \n",
    "    print(\"Invalid email address\")  "
   ]
  }
 ],
 "metadata": {
  "kernelspec": {
   "display_name": "Python 3 (ipykernel)",
   "language": "python",
   "name": "python3"
  },
  "language_info": {
   "codemirror_mode": {
    "name": "ipython",
    "version": 3
   },
   "file_extension": ".py",
   "mimetype": "text/x-python",
   "name": "python",
   "nbconvert_exporter": "python",
   "pygments_lexer": "ipython3",
   "version": "3.11.1"
  }
 },
 "nbformat": 4,
 "nbformat_minor": 5
}
