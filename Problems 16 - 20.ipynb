{
 "cells": [
  {
   "cell_type": "markdown",
   "id": "1f9fdea1",
   "metadata": {},
   "source": [
    "## 16. Calculate the S.D. and coefficient of variation (C.V.) for the following table:  \n",
    "## Class: 0-10 10-20 20-30 30-40 40-50 50-60 60-70 70-80 \n",
    "## Frequency: 5 10 20 40 30 20 10 5"
   ]
  },
  {
   "cell_type": "code",
   "execution_count": 1,
   "id": "487378f3",
   "metadata": {},
   "outputs": [
    {
     "name": "stdout",
     "output_type": "stream",
     "text": [
      "Standard Deviation (SD): 15.91992077715905\n",
      "Coefficient of Variation (CV): 40.15835871715796\n"
     ]
    }
   ],
   "source": [
    "import math\n",
    "\n",
    "classes = [\"0-10\", \"10-20\", \"20-30\", \"30-40\", \"40-50\", \"50-60\", \"60-70\", \"70-80\"]\n",
    "frequencies = [5, 10, 20, 40, 30, 20, 10, 5]\n",
    "\n",
    "midpoints = [5, 15, 25, 35, 45, 55, 65, 75]\n",
    "# Step 2: Calculate the product of midpoint and frequency for each class\n",
    "products = [midpoint * frequency for midpoint, frequency in zip(midpoints, frequencies)]\n",
    "total_sum = sum(products)\n",
    "mean = total_sum / sum(frequencies)\n",
    "# Step 5: Calculate the squared difference between midpoint and mean for each class\n",
    "squared_diff = [(midpoint - mean) ** 2 for midpoint in midpoints]\n",
    "\n",
    " #Step 6: Calculate the product of squared difference and frequency for each class\n",
    "product_squared_diff = [diff * frequency for diff, frequency in zip(squared_diff, frequencies)]\n",
    "\n",
    "sum_squared_diff = sum(product_squared_diff)\n",
    "variance = sum_squared_diff / sum(frequencies)\n",
    "sd = math.sqrt(variance)\n",
    "cv = (sd / mean) * 100\n",
    "\n",
    "print(\"Standard Deviation (SD):\", sd)\n",
    "print(\"Coefficient of Variation (CV):\", cv)"
   ]
  },
  {
   "cell_type": "markdown",
   "id": "1e3f4fea",
   "metadata": {},
   "source": [
    "## 17. If X is binomially distributed with 6 trials and a probability of success equal to 0.25 at each attempt, what is the probability of: a) exactly 4 successes b) at least one success "
   ]
  },
  {
   "cell_type": "code",
   "execution_count": 2,
   "id": "d47ef3be",
   "metadata": {},
   "outputs": [
    {
     "name": "stdout",
     "output_type": "stream",
     "text": [
      "Probability of exactly 4 successes: 0.03295898437499997\n",
      "Probability of at least one success: 0.822021484375\n"
     ]
    }
   ],
   "source": [
    "from scipy.stats import binom\n",
    "\n",
    "n = 6     # Given parameters\n",
    "p = 0.25  \n",
    "k = 4     \n",
    "\n",
    "exact4 = binom.pmf(k, n, p)\n",
    "print(\"Probability of exactly 4 successes:\", exact4)\n",
    "\n",
    "atleast1 = 1 - binom.cdf(0, n, p)\n",
    "print(\"Probability of at least one success:\", atleast1)\n"
   ]
  },
  {
   "cell_type": "markdown",
   "id": "6f1ed033",
   "metadata": {},
   "source": [
    "## 18. If the random variable X follows a Poisson distribution with mean 3.4, find P(X=6). "
   ]
  },
  {
   "cell_type": "code",
   "execution_count": 3,
   "id": "61cbc5f8",
   "metadata": {},
   "outputs": [
    {
     "name": "stdout",
     "output_type": "stream",
     "text": [
      "P(X=6)=  0.07160440945982202\n"
     ]
    }
   ],
   "source": [
    "import seaborn\n",
    "from scipy.stats import poisson\n",
    "print (\"P(X=6)= \",poisson.pmf(k=6, mu=3.4))"
   ]
  },
  {
   "cell_type": "markdown",
   "id": "ed6adcc6",
   "metadata": {},
   "source": [
    "## 19. A random sample of 395 people were surveyed and each person was asked to report the highest education level they obtained. The data that resulted from the survey is summarized in the following table. Are gender and education level dependent at 5% level of significance? (Table is in Syllabus)"
   ]
  },
  {
   "cell_type": "code",
   "execution_count": null,
   "id": "7bdf10a8",
   "metadata": {},
   "outputs": [],
   "source": []
  },
  {
   "cell_type": "markdown",
   "id": "3a92178c",
   "metadata": {},
   "source": [
    "## 20. Calculate the correlation coefficient of the two variables shown in the table below."
   ]
  },
  {
   "cell_type": "code",
   "execution_count": null,
   "id": "55e9f1f5",
   "metadata": {},
   "outputs": [],
   "source": []
  }
 ],
 "metadata": {
  "kernelspec": {
   "display_name": "Python 3 (ipykernel)",
   "language": "python",
   "name": "python3"
  },
  "language_info": {
   "codemirror_mode": {
    "name": "ipython",
    "version": 3
   },
   "file_extension": ".py",
   "mimetype": "text/x-python",
   "name": "python",
   "nbconvert_exporter": "python",
   "pygments_lexer": "ipython3",
   "version": "3.11.1"
  }
 },
 "nbformat": 4,
 "nbformat_minor": 5
}
