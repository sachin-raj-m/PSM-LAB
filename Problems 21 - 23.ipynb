{
 "cells": [
  {
   "cell_type": "markdown",
   "id": "d0037f0c",
   "metadata": {},
   "source": [
    "## 21. Suppose a sample of 16 light trucks is randomly selected off the assembly line. The trucks are driven 1000 miles and the fuel mileage (MPG) of each truck is recorded. It is found that the mean MPG is 22 with a SD equal to 3. The previous model of the light truck got 20 MPG. Conduct a t- test of the null hypothesis at p = 0.05"
   ]
  },
  {
   "cell_type": "code",
   "execution_count": 5,
   "id": "4405b88d",
   "metadata": {},
   "outputs": [
    {
     "name": "stdout",
     "output_type": "stream",
     "text": [
      "Reject the null hypothesis\n",
      "t-score: 2.6666666666666665\n",
      "p-value: 0.017595153068163703\n"
     ]
    }
   ],
   "source": [
    "import scipy.stats as stats\n",
    "\n",
    "sample_size = 16\n",
    "sample_mean = 22\n",
    "sample_sd = 3\n",
    "population_mean = 20\n",
    "alpha = 0.05\n",
    "\n",
    "t_score = (sample_mean - population_mean) / (sample_sd / (sample_size ** 0.5))\n",
    "\n",
    "df = sample_size - 1 #degress of freedom\n",
    "\n",
    "p_value = stats.t.sf(abs(t_score), df) * 2\n",
    "\n",
    "if p_value < alpha:\n",
    "    print(\"Reject the null hypothesis\")\n",
    "else:\n",
    "    print(\"Fail to reject the null hypothesis\")\n",
    "\n",
    "print(\"t-score:\", t_score)\n",
    "print(\"p-value:\", p_value)"
   ]
  },
  {
   "cell_type": "markdown",
   "id": "a59bfcd7",
   "metadata": {},
   "source": [
    "## 22. The mean productivity rating for all employees at a company was 3.8 on a fivepoint scale last year. This year you get ratings from a representative sample of fifteen employees from the Human Research Management. Do the data from this sample provide evidence that employee productivity in the department of Human Resource Management is significantly higher than in the company as a whole? Write the null and alternative hypotheses for this problem. Use statistical analysis software to test the null hypothesis stated above."
   ]
  },
  {
   "cell_type": "code",
   "execution_count": 1,
   "id": "e9689265",
   "metadata": {},
   "outputs": [
    {
     "name": "stdout",
     "output_type": "stream",
     "text": [
      "Sample Mean: 4.20\n",
      "T-Statistic: 9.17\n",
      "P-Value: 0.000000\n",
      "Reject the null hypothesis. There is evidence that employee productivity in the HRM department is significantly higher.\n"
     ]
    }
   ],
   "source": [
    "import numpy as np\n",
    "from scipy import stats\n",
    "\n",
    "# Given data\n",
    "mean_company = 3.8  # Mean productivity rating for the company as a whole\n",
    "sample_data = [4.1, 4.0, 4.3, 4.2, 4.5, 3.9, 4.2, 4.1, 4.4, 4.3, 4.2, 4.4, 4.0, 4.3, 4.1]  # Sample productivity ratings from HRM department\n",
    "\n",
    "# Calculate sample statistics\n",
    "sample_mean = np.mean(sample_data)\n",
    "sample_size = len(sample_data)\n",
    "\n",
    "# Perform one-sample t-test\n",
    "t_statistic, p_value = stats.ttest_1samp(sample_data, mean_company, alternative='greater')\n",
    "\n",
    "# Define significance level\n",
    "alpha = 0.05\n",
    "\n",
    "# Print results\n",
    "print(f\"Sample Mean: {sample_mean:.2f}\")\n",
    "print(f\"T-Statistic: {t_statistic:.2f}\")\n",
    "print(f\"P-Value: {p_value:.6f}\")\n",
    "\n",
    "if p_value < alpha:\n",
    "    print(\"Reject the null hypothesis. There is evidence that employee productivity in the HRM department is significantly higher.\")\n",
    "else:\n",
    "    print(\"Fail to reject the null hypothesis. There is no evidence that employee productivity in the HRM department is significantly higher.\")\n"
   ]
  },
  {
   "cell_type": "markdown",
   "id": "8af50fdc",
   "metadata": {},
   "source": [
    "## 23. Obtain the regression equation for predicting systolic blood pressure from job satisfaction with reference to the given data using statistical analysis software. If one knows that a subject in the future has a score on job satisfaction of 15, what is their systolic blood pressure predicted to be? What is the standard error of estimate? (Table is in syllabus) "
   ]
  },
  {
   "cell_type": "code",
   "execution_count": 2,
   "id": "8cf71328",
   "metadata": {},
   "outputs": [
    {
     "name": "stdout",
     "output_type": "stream",
     "text": [
      "Regression Equation: Systolic BP = 175.42 + -1.12 * Job Satisfaction\n",
      "Predicted Systolic BP for Job Satisfaction of 15: 158.65\n",
      "Standard Error of Estimate: 10.83\n"
     ]
    }
   ],
   "source": [
    "import numpy as np\n",
    "from scipy import stats\n",
    "\n",
    "# Given data\n",
    "job_satisfaction = np.array([34, 23, 19, 43, 56, 47, 32, 16, 55, 25])\n",
    "systolic_bp = np.array([124, 128, 157, 133, 116, 125, 147, 167, 110, 156])\n",
    "\n",
    "# Perform linear regression\n",
    "slope, intercept, r_value, p_value, std_err = stats.linregress(job_satisfaction, systolic_bp)\n",
    "\n",
    "# Calculate predicted systolic blood pressure for job satisfaction score of 15\n",
    "job_satisfaction_new = 15\n",
    "predicted_systolic_bp = intercept + slope * job_satisfaction_new\n",
    "\n",
    "# Calculate standard error of estimate (residual standard error)\n",
    "residuals = systolic_bp - (intercept + slope * job_satisfaction)\n",
    "std_error_estimate = np.std(residuals, ddof=2)  # Corrected for degrees of freedom\n",
    "\n",
    "# Print results\n",
    "print(f\"Regression Equation: Systolic BP = {intercept:.2f} + {slope:.2f} * Job Satisfaction\")\n",
    "print(f\"Predicted Systolic BP for Job Satisfaction of {job_satisfaction_new}: {predicted_systolic_bp:.2f}\")\n",
    "print(f\"Standard Error of Estimate: {std_error_estimate:.2f}\")\n"
   ]
  }
 ],
 "metadata": {
  "kernelspec": {
   "display_name": "Python 3 (ipykernel)",
   "language": "python",
   "name": "python3"
  },
  "language_info": {
   "codemirror_mode": {
    "name": "ipython",
    "version": 3
   },
   "file_extension": ".py",
   "mimetype": "text/x-python",
   "name": "python",
   "nbconvert_exporter": "python",
   "pygments_lexer": "ipython3",
   "version": "3.11.1"
  }
 },
 "nbformat": 4,
 "nbformat_minor": 5
}
